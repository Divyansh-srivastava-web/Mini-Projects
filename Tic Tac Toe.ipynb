{
 "cells": [
  {
   "cell_type": "code",
   "execution_count": 1,
   "id": "044ad8f5-33f2-45a1-89df-14f7f2a63321",
   "metadata": {},
   "outputs": [
    {
     "name": "stdout",
     "output_type": "stream",
     "text": [
      "  |    |\n",
      " X|  O |X\n",
      "  |    |\n",
      "-------------\n",
      "  |    |\n",
      " O|  X |O\n",
      "  |    |\n",
      "-------------\n",
      "  |    |\n",
      " X|  O |X\n",
      "  |    |\n"
     ]
    }
   ],
   "source": [
    "from IPython.display import clear_output\n",
    "def drawboard(board):\n",
    "    clear_output()\n",
    "    print('  |    |')\n",
    "    print(' '+ board[7] + '|'  +'  '+  board[8]  +  ' |' + board[9] )\n",
    "    print('  |    |')\n",
    "    print('-------------')\n",
    "    print('  |    |')\n",
    "    print(' '+ board[4] + '|'  +'  '+  board[5]  +  ' |' + board[6] )\n",
    "    print('  |    |')\n",
    "    print('-------------')\n",
    "    print('  |    |')\n",
    "    print(' '+ board[1] + '|'  +'  '+  board[2]  +  ' |' + board[3] )\n",
    "    print('  |    |')\n",
    "    \n",
    "\n",
    "test_board = ['#','X','O','X','O','X','O','X','O','X']\n",
    "drawboard(test_board)"
   ]
  },
  {
   "cell_type": "code",
   "execution_count": 6,
   "id": "7ead27fb-1cc5-4c4b-8717-8d5fef05d2da",
   "metadata": {},
   "outputs": [
    {
     "ename": "IndentationError",
     "evalue": "unexpected indent (3267267360.py, line 4)",
     "output_type": "error",
     "traceback": [
      "\u001b[1;36m  Cell \u001b[1;32mIn[6], line 4\u001b[1;36m\u001b[0m\n\u001b[1;33m    clear_output()  # Remember, this only works in jupyter!\u001b[0m\n\u001b[1;37m    ^\u001b[0m\n\u001b[1;31mIndentationError\u001b[0m\u001b[1;31m:\u001b[0m unexpected indent\n"
     ]
    }
   ],
   "source": [
    "#from IPython.display import clear_output\n",
    "\n",
    "#def display_board(board):\n",
    "    clear_output()  # Remember, this only works in jupyter!\n",
    "    \n",
    "    print('   |   |')\n",
    "    print(' ' + board[7] + ' | ' + board[8] + ' | ' + board[9])\n",
    "    print('   |   |')\n",
    "    print('-----------')\n",
    "    print('   |   |')\n",
    "    print(' ' + board[4] + ' | ' + board[5] + ' | ' + board[6])\n",
    "    print('   |   |')\n",
    "    print('-----------')\n",
    "    print('   |   |')\n",
    "    print(' ' + board[1] + ' | ' + board[2] + ' | ' + board[3])\n",
    "    print('   |   |')\n",
    "#test_board = ['#','X','O','X','O','X','O','X','O','X']\n",
    "#display_board(test_board)"
   ]
  },
  {
   "cell_type": "code",
   "execution_count": 2,
   "id": "21602f02-8bd9-4495-9af3-71ee5b8f8eea",
   "metadata": {},
   "outputs": [],
   "source": [
    "#to choose X AND O \n",
    "def choose_xandO():\n",
    "    marker = ' '\n",
    "    while not ( marker == 'X' or marker == 'O'):\n",
    "        marker = input(\"enter either X or O:\"  ).upper()\n",
    "    if marker == 'X':\n",
    "        return('x','O')\n",
    "    else:\n",
    "        return('O','x')\n",
    "    \n",
    "    \n",
    "    \n",
    "    "
   ]
  },
  {
   "cell_type": "code",
   "execution_count": 3,
   "id": "bca6ebdf-169b-44ff-a5dd-92980ba3ef3a",
   "metadata": {},
   "outputs": [
    {
     "name": "stdin",
     "output_type": "stream",
     "text": [
      "enter either X or O: X\n"
     ]
    },
    {
     "data": {
      "text/plain": [
       "('x', 'O')"
      ]
     },
     "execution_count": 3,
     "metadata": {},
     "output_type": "execute_result"
    }
   ],
   "source": [
    "choose_xandO()\n"
   ]
  },
  {
   "cell_type": "code",
   "execution_count": 3,
   "id": "c55ce9a6-9065-42b8-be02-8399f70c9b12",
   "metadata": {},
   "outputs": [],
   "source": [
    "#to choose board position\n",
    "def place_marker(board,marker,position):\n",
    "    board[position] = marker\n",
    "    \n",
    "    "
   ]
  },
  {
   "cell_type": "code",
   "execution_count": 9,
   "id": "d3d278f2-c739-4713-b1a6-e4541ffb1bdc",
   "metadata": {},
   "outputs": [
    {
     "name": "stdout",
     "output_type": "stream",
     "text": [
      "  |    |\n",
      " X|  7 |X\n",
      "  |    |\n",
      "-------------\n",
      "  |    |\n",
      " O|  X |O\n",
      "  |    |\n",
      "-------------\n",
      "  |    |\n",
      " X|  O |X\n",
      "  |    |\n"
     ]
    }
   ],
   "source": [
    "test_board = ['#','X','O','X','O','X','O','X','O','X']\n",
    "boardposition(test_board,'7',8)\n",
    "drawboard(test_board)"
   ]
  },
  {
   "cell_type": "code",
   "execution_count": 4,
   "id": "a95e6720-b71b-4bcd-a60c-079d880ea56f",
   "metadata": {},
   "outputs": [],
   "source": [
    "#wap to check who won \n",
    "def chk_win(board,mark):\n",
    "    return((board[7]== mark and board[8]== mark and board[9]== mark) or\n",
    "          (board[4]== mark and board[5]== mark and board[6]== mark) or\n",
    "          (board[1]== mark and board[2]== mark and board[3]== mark) or \n",
    "          (board[7]== mark and board[4]== mark and board[1]== mark) or\n",
    "          (board[8]== mark and board[5]== mark and board[2]== mark) or\n",
    "          (board[9]== mark and board[6]== mark and board[3]== mark) or\n",
    "          (board[7]== mark and board[5]== mark and board[3]== mark) or\n",
    "          (board[9]== mark and board[5]== mark and board[1]== mark))"
   ]
  },
  {
   "cell_type": "code",
   "execution_count": null,
   "id": "bf651649-5707-4390-91f8-2006c57d8060",
   "metadata": {},
   "outputs": [],
   "source": [
    "chk_win(test_board, 'O')"
   ]
  },
  {
   "cell_type": "code",
   "execution_count": 5,
   "id": "f4fa03ab-6a3f-4b1c-bdc6-0c73e9ae31b3",
   "metadata": {},
   "outputs": [],
   "source": [
    "#wap to ask which player will go first \n",
    "import random\n",
    "def which_player():\n",
    "     if random.randint(0,1) == 1:\n",
    "         return 'player2'\n",
    "     else:\n",
    "         return 'player1'"
   ]
  },
  {
   "cell_type": "code",
   "execution_count": null,
   "id": "aa0632e5-c0ed-4d66-8601-4380486d4a32",
   "metadata": {},
   "outputs": [],
   "source": [
    "which_player()"
   ]
  },
  {
   "cell_type": "code",
   "execution_count": 6,
   "id": "f179ebe4-bed7-4791-ae72-cc010cded869",
   "metadata": {},
   "outputs": [],
   "source": [
    "#to check space on board\n",
    "def space_check(board,position):\n",
    "    return board[position]== ' '"
   ]
  },
  {
   "cell_type": "code",
   "execution_count": 7,
   "id": "82fcd1ae-6134-4166-ac64-32056f9b9950",
   "metadata": {},
   "outputs": [],
   "source": [
    "#to check if board is full return true if full otherwise false \n",
    "def full_space(board):\n",
    "    for i in range(1,10):\n",
    "        if space_check(board,i):\n",
    "            return False\n",
    "    return True\n"
   ]
  },
  {
   "cell_type": "code",
   "execution_count": 8,
   "id": "f0d1bd9a-001b-4b3f-b0b5-7079088fc003",
   "metadata": {},
   "outputs": [],
   "source": [
    "#to ask for players next position then check if its empty \n",
    "def player_choice(board):\n",
    "    position = 0\n",
    "    while position not in [1,2,3,4,5,6,7,8,9] or not space_check(board,position):\n",
    "        position = int(input('please enter the next position 0,9:  '))\n",
    "\n",
    "    return position"
   ]
  },
  {
   "cell_type": "code",
   "execution_count": 12,
   "id": "2d4c8042-6744-44c9-a328-6040b1589b98",
   "metadata": {},
   "outputs": [],
   "source": [
    "def replayed():\n",
    "    info = input('if you want to play again enter yes or no :   ').lower()\n",
    "    if info.startswith('y'):\n",
    "        return True\n",
    "    else:\n",
    "        print(\"Thank you , See you again 😊\")\n",
    "        return False\n",
    "        \n",
    "        \n",
    "\n",
    "\n"
   ]
  },
  {
   "cell_type": "code",
   "execution_count": 10,
   "id": "923d4fdb-aeb0-49f6-8402-a71fb749fc69",
   "metadata": {},
   "outputs": [],
   "source": [
    "#to ask player if they want to play and return boolean \n",
    "def replay():\n",
    "    return input('if you want to play again enter yes or no :   ').lower().startswith('y')"
   ]
  },
  {
   "cell_type": "code",
   "execution_count": 40,
   "id": "78e34eae-5285-4d7e-b8f3-ff20f32612cc",
   "metadata": {},
   "outputs": [
    {
     "name": "stdin",
     "output_type": "stream",
     "text": [
      "if you want to play again enter yes or no :    no\n"
     ]
    },
    {
     "data": {
      "text/plain": [
       "False"
      ]
     },
     "execution_count": 40,
     "metadata": {},
     "output_type": "execute_result"
    }
   ],
   "source": [
    "replay()\n"
   ]
  },
  {
   "cell_type": "code",
   "execution_count": 13,
   "id": "e6b14055-fe98-488d-8f97-5760872594a1",
   "metadata": {},
   "outputs": [
    {
     "name": "stdout",
     "output_type": "stream",
     "text": [
      "welcome to tic tac toe\n"
     ]
    },
    {
     "name": "stdin",
     "output_type": "stream",
     "text": [
      "enter either X or O: x\n"
     ]
    },
    {
     "name": "stdout",
     "output_type": "stream",
     "text": [
      "player2 will go first \n"
     ]
    },
    {
     "name": "stdin",
     "output_type": "stream",
     "text": [
      "Are you ready to play? Enter Yes or No:   no\n",
      "if you want to play again enter yes or no :    no\n"
     ]
    },
    {
     "name": "stdout",
     "output_type": "stream",
     "text": [
      "Thank you , See you again 😊\n"
     ]
    }
   ],
   "source": [
    "#GAMELOGIC\n",
    "print(\"welcome to tic tac toe\")\n",
    "\n",
    "while True:\n",
    "    theBoard = [' ']*10\n",
    "    player1_marker,player2_marker = choose_xandO() #player input to choose X and O\n",
    "    turn = which_player()#to select which player will be playig first\n",
    "    print(turn + ' will go first ')\n",
    "    play_game = input('Are you ready to play? Enter Yes or No:  ' )\n",
    "    if play_game.lower()[0] == 'y':#to check the if usr enter yes or no here we have used the y becasue of  yes , yeah , yupp.\n",
    "        game_on = True\n",
    "    else:\n",
    "        game_on = False\n",
    "    while game_on:\n",
    "        if turn == 'player1':\n",
    "            drawboard(theBoard)\n",
    "            position = player_choice(theBoard)\n",
    "            place_marker(theBoard,player1_marker,position)\n",
    "            if chk_win(theBoard,player1_marker):\n",
    "                drawboard(theBoard)\n",
    "                print('congratulations you won the game')\n",
    "                game_on = False\n",
    "            else:\n",
    "                if full_space(theBoard):\n",
    "                    drawboard(theBoard)\n",
    "                    print('draw')\n",
    "                    break\n",
    "                else:\n",
    "                    turn = 'player2'\n",
    "        else:\n",
    "            drawboard(theBoard) #display the board\n",
    "            position = player_choice(theBoard) #to ask player for next position and checck if its empty \n",
    "            place_marker(theBoard,player2_marker,position) #to mark position on board\n",
    "            if chk_win(theBoard,player2_marker):#to chk if any player won or not \n",
    "                drawboard(theBoard)\n",
    "                print('congratulations, player2 you won the game')\n",
    "                game_on = False\n",
    "    \n",
    "            \n",
    "            else:\n",
    "                if full_space(theBoard): #to check if board is full \n",
    "                    drawboard(theBoard) #display the board\n",
    "                    print('draw')\n",
    "                    break\n",
    "                else:\n",
    "                    turn = 'player1'\n",
    "    \n",
    "    if not replayed():\n",
    "        break # to ask player if they want to play the game \n",
    "            \n",
    "                    \n",
    "            \n",
    "            \n",
    "        \n",
    "    \n",
    "\n"
   ]
  },
  {
   "cell_type": "code",
   "execution_count": null,
   "id": "9217882a-3c1e-4c50-9088-21e3988fb886",
   "metadata": {},
   "outputs": [],
   "source": []
  }
 ],
 "metadata": {
  "kernelspec": {
   "display_name": "Python 3 (ipykernel)",
   "language": "python",
   "name": "python3"
  },
  "language_info": {
   "codemirror_mode": {
    "name": "ipython",
    "version": 3
   },
   "file_extension": ".py",
   "mimetype": "text/x-python",
   "name": "python",
   "nbconvert_exporter": "python",
   "pygments_lexer": "ipython3",
   "version": "3.11.7"
  }
 },
 "nbformat": 4,
 "nbformat_minor": 5
}
